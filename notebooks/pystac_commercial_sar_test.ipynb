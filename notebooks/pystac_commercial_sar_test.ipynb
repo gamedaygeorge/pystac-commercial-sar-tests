{
 "cells": [
  {
   "cell_type": "code",
   "execution_count": null,
   "id": "e4c1709e-34fa-43f9-afe4-8e9178eb7c86",
   "metadata": {},
   "outputs": [],
   "source": []
  }
 ],
 "metadata": {
  "kernelspec": {
   "display_name": "Python 3 (ipykernel)",
   "language": "python",
   "name": "python3"
  },
  "language_info": {
   "codemirror_mode": {
    "name": "ipython",
    "version": 3
   },
   "file_extension": ".py",
   "mimetype": "text/x-python",
   "name": "python",
   "nbconvert_exporter": "python",
   "pygments_lexer": "ipython3",
   "version": "3.10.13"
  }
 },
 "nbformat": 4,
 "nbformat_minor": 5
}
